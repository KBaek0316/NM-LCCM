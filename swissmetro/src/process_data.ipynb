{
 "cells": [
  {
   "cell_type": "code",
   "execution_count": 30,
   "metadata": {},
   "outputs": [],
   "source": [
    "import pandas as pd\n",
    "import numpy as np\n",
    "import sklearn\n",
    "from sklearn import model_selection"
   ]
  },
  {
   "cell_type": "markdown",
   "metadata": {},
   "source": [
    "Person \n",
    "- FIRST: First class traveler (0 = no, 1 = yes)\n",
    "- AGE: 1: age≤24, 2: 24<age≤39, 3: 39<age≤54, 4: 54<age≤ 65, 5: 65 <age, 6: not known\n",
    "- MALE: Traveler’s Gender 0: female, 1: male\n",
    "- INCOME: Traveler’s income per year [thousand CHF] \n",
    "  -- 0 or 1: under 50, 2: between 50 and 100, 3: over 100, 4: unknown\n",
    "  \n",
    "Trip context \n",
    "- PURPOSE: 1: Commuter, 2: Shopping, 3: Business, 4: Leisure, 5: Return from work, 6: Return from shopping, 7: Return from business,  8: Return from leisure, 9: other                          \n",
    "- WHO: Who pays (0: unknown, 1: self, 2: employer, 3: half-half)\n",
    "- LUGGAGE: 0: none, 1: one piece, 3: several pieces\n",
    "\n",
    "Alternative attributes: \n",
    "- GA: Variable capturing the effect of the Swiss annual season ticket for the rail system and most local public transport. It is 1 if the individual owns a GA, zero otherwise. (if GA=1, SM_CO=0, TRAIN_CO=0)\n",
    "\n",
    "- TRAIN_TT: Train travel time [minutes]. Travel times are door-to-door making assumptions about car-based distances\n",
    "- TRAIN_CO: Train cost [CHF]. If the traveler has a GA, this cost equals the cost of the annual ticket.\n",
    "- TRAIN_HE: Train headway [minutes]\n",
    "\n",
    "- SM_TT: SM travel time [minutes] considering the future Swissmetro speed of 500 km/h\n",
    "- SM CO: SM cost [CHF] calculated at the current relevant rail fare, without considering GA, multiplied by a fixed factor (1.2) to reflect the higher speed.\n",
    "- SM_HE: SM headway [minutes]\n",
    "- SM_SEATS: Seats configuration in the Swissmetro (dummy). Airline seats (1) or not (0).\n",
    "\n",
    "- CAR_TT: \n",
    "- CAR_CO: \n",
    "\n",
    "Choice:\n",
    "- CHOICE: Choice indicator. 0: unknown, 1: Train, 2: SM, 3: Car\n",
    "\n",
    "Availability: \n",
    "- TRAIN_AV\n",
    "- CAR_AV\n",
    "- SM_AV                                                     "
   ]
  },
  {
   "cell_type": "code",
   "execution_count": 31,
   "metadata": {},
   "outputs": [],
   "source": [
    "def recode(data, var, from_value, to_value, num_levels):\n",
    "    if from_value != None:\n",
    "        data.loc[data[var]==from_value,var]=to_value\n",
    "    dmy = pd.get_dummies(data[var])\n",
    "    dmy.columns = [var+str(\"_\")+str(i) for i in range(num_levels)]\n",
    "    if dmy.columns[0] not in data.columns: # dummies not added yet\n",
    "        data = pd.concat([data, dmy], axis=1)\n",
    "    return data"
   ]
  },
  {
   "cell_type": "code",
   "execution_count": 32,
   "metadata": {},
   "outputs": [],
   "source": [
    "def recodeVarMultiLevels(data, var, dic):\n",
    "    for from_value in dic:\n",
    "        data.loc[data[var]==from_value, var]=dic[from_value]\n",
    "    return data\n",
    "\n",
    "def removeLevel(data, var, level):\n",
    "    return data.loc[data[var]!=level]"
   ]
  },
  {
   "cell_type": "code",
   "execution_count": 33,
   "metadata": {},
   "outputs": [],
   "source": [
    "def printValueCounts(data, var_list):\n",
    "    for var in var_list:\n",
    "        print (data[var].value_counts())\n",
    "    return\n",
    "\n",
    "def scaleVar(data, var, factor):\n",
    "    data[var]=data[var]*factor"
   ]
  },
  {
   "cell_type": "code",
   "execution_count": 34,
   "metadata": {},
   "outputs": [],
   "source": [
    "data = pd.read_csv(\"../data/swissmetro.csv\")"
   ]
  },
  {
   "cell_type": "code",
   "execution_count": 35,
   "metadata": {},
   "outputs": [
    {
     "name": "stdout",
     "output_type": "stream",
     "text": [
      "10728 observations\n"
     ]
    }
   ],
   "source": [
    "print (len(data), \"observations\")\n",
    "print (\"car users:\" , data[\"SURVEY\"].sum()/9.0)\n",
    "print (\"rail users:\" , (data[\"SURVEY\"]==0).sum()/9.0)"
   ]
  },
  {
   "cell_type": "code",
   "execution_count": 39,
   "metadata": {},
   "outputs": [
    {
     "name": "stdout",
     "output_type": "stream",
     "text": [
      "3    3834\n",
      "2    3339\n",
      "4    2025\n",
      "5     810\n",
      "1     711\n",
      "6       9\n",
      "Name: AGE, dtype: int64\n",
      "1    8046\n",
      "0    2682\n",
      "Name: MALE, dtype: int64\n",
      "3    4041\n",
      "2    3744\n",
      "1    1719\n",
      "4     918\n",
      "0     306\n",
      "Name: INCOME, dtype: int64\n",
      "0    5679\n",
      "1    5049\n",
      "Name: FIRST, dtype: int64\n",
      "3    3834\n",
      "2    3339\n",
      "4    2025\n",
      "5     810\n",
      "1     711\n",
      "Name: AGE, dtype: int64\n",
      "1    8037\n",
      "0    2682\n",
      "Name: MALE, dtype: int64\n",
      "3    4041\n",
      "2    3735\n",
      "1    2025\n",
      "4     918\n",
      "Name: INCOME, dtype: int64\n",
      "0    5670\n",
      "1    5049\n",
      "Name: FIRST, dtype: int64\n"
     ]
    }
   ],
   "source": [
    "## Socio-demo Variables\n",
    "printValueCounts(data, ['AGE','MALE','INCOME','FIRST'])\n",
    "data = recode(data, 'MALE',None,None,2)\n",
    "# AGE\n",
    "data = removeLevel(data, 'AGE', 6)\n",
    "data = recode(data, 'AGE',None,None,5)\n",
    "# INCOME\n",
    "data = recode(data, 'INCOME',0,1,4)\n",
    "printValueCounts(data, ['AGE','MALE','INCOME','FIRST'])\n",
    "# FIRST\n",
    "data = recode(data, 'FIRST',None,None,2)"
   ]
  },
  {
   "cell_type": "code",
   "execution_count": 40,
   "metadata": {},
   "outputs": [
    {
     "name": "stdout",
     "output_type": "stream",
     "text": [
      "0    9198\n",
      "1    1521\n",
      "Name: GA, dtype: int64\n"
     ]
    }
   ],
   "source": [
    "# GA\n",
    "data = recode(data, 'GA',None,None,2)\n",
    "print (data['GA'].value_counts())"
   ]
  },
  {
   "cell_type": "code",
   "execution_count": 41,
   "metadata": {},
   "outputs": [
    {
     "name": "stdout",
     "output_type": "stream",
     "text": [
      "1    5805\n",
      "2    3564\n",
      "3    1026\n",
      "0     324\n",
      "Name: WHO, dtype: int64\n",
      "3    5184\n",
      "4    2304\n",
      "1    1575\n",
      "2    1278\n",
      "5     144\n",
      "7     144\n",
      "6      63\n",
      "9      18\n",
      "8       9\n",
      "Name: PURPOSE, dtype: int64\n",
      "1    6489\n",
      "0    3969\n",
      "3     261\n",
      "Name: LUGGAGE, dtype: int64\n",
      "3    5328\n",
      "4    2313\n",
      "1    1719\n",
      "2    1341\n",
      "9      18\n",
      "Name: PURPOSE, dtype: int64\n",
      "3    5328\n",
      "4    2313\n",
      "1    1719\n",
      "2    1341\n",
      "Name: PURPOSE, dtype: int64\n",
      "1    6471\n",
      "0    3969\n",
      "3     261\n",
      "Name: LUGGAGE, dtype: int64\n"
     ]
    }
   ],
   "source": [
    "## Trip context \n",
    "printValueCounts(data, ['WHO','PURPOSE','LUGGAGE'])\n",
    "\n",
    "# WHO\n",
    "data = recode(data, 'WHO', 0,1,3)\n",
    "\n",
    "# PURPOSE\n",
    "# 1: Commuter, 2: Shopping, 3: Business, 4: Leisure, \n",
    "# 5: Return from work, 6: Return from shopping, \n",
    "# 7: Return from business,  8: Return from leisure, 9: other  \n",
    "dic_purp_recode = {5:1, 6:2, 7:3, 8:4}\n",
    "data = recodeVarMultiLevels(data, 'PURPOSE', dic_purp_recode)\n",
    "print (data['PURPOSE'].value_counts())\n",
    "data = removeLevel(data, 'PURPOSE', 9)\n",
    "print (data['PURPOSE'].value_counts())\n",
    "data = recode(data, 'PURPOSE',None,None,4)\n",
    "\n",
    "# LUGGAGE\n",
    "data = recode(data, 'LUGGAGE',None,None,3)\n",
    "print (data['LUGGAGE'].value_counts())"
   ]
  },
  {
   "cell_type": "markdown",
   "metadata": {},
   "source": [
    "### Alternative attributes"
   ]
  },
  {
   "cell_type": "code",
   "execution_count": 42,
   "metadata": {},
   "outputs": [],
   "source": [
    "data['SM_CO'] = data['SM_CO'] * (data['GA']==0) # if GA==1, SM_CO=0, o.w. SM_CO=SM_CO\n",
    "data['TRAIN_CO'] = data['TRAIN_CO'] * (data['GA']==0) # if GA==1, SM_CO=0, o.w. SM_CO=SM_CO\n",
    "x_names = ['TRAIN_TT','TRAIN_HE', 'TRAIN_CO', 'SM_TT','SM_HE', 'SM_CO', 'CAR_TT', 'CAR_CO']\n",
    "for var in x_names:\n",
    "    scaleVar(data, var, 0.01)\n",
    "data = removeLevel(data, 'CHOICE', 0)\n",
    "data = recode(data, 'CHOICE', None, None,3)"
   ]
  },
  {
   "cell_type": "code",
   "execution_count": 43,
   "metadata": {
    "scrolled": true
   },
   "outputs": [
    {
     "name": "stdout",
     "output_type": "stream",
     "text": [
      "1    9027\n",
      "0    1665\n",
      "Name: CAR_AV, dtype: int64\n",
      "1    10692\n",
      "Name: TRAIN_AV, dtype: int64\n",
      "1    10692\n",
      "Name: SM_AV, dtype: int64\n"
     ]
    }
   ],
   "source": [
    "printValueCounts(data, ['CAR_AV', 'TRAIN_AV', 'SM_AV'])"
   ]
  },
  {
   "cell_type": "code",
   "execution_count": 46,
   "metadata": {},
   "outputs": [
    {
     "name": "stdout",
     "output_type": "stream",
     "text": [
      "z_levels OrderedDict([('MALE', 2), ('AGE', 5), ('INCOME', 4), ('FIRST', 2), ('WHO', 3), ('PURPOSE', 4), ('LUGGAGE', 3), ('GA', 2)])\n",
      "z_names ['MALE_0', 'MALE_1', 'AGE_0', 'AGE_1', 'AGE_2', 'AGE_3', 'AGE_4', 'INCOME_0', 'INCOME_1', 'INCOME_2', 'INCOME_3', 'FIRST_0', 'FIRST_1', 'WHO_0', 'WHO_1', 'WHO_2', 'PURPOSE_0', 'PURPOSE_1', 'PURPOSE_2', 'PURPOSE_3', 'LUGGAGE_0', 'LUGGAGE_1', 'LUGGAGE_2', 'GA_0', 'GA_1']\n"
     ]
    }
   ],
   "source": [
    "## Export data\n",
    "from collections import OrderedDict\n",
    "z_levels = OrderedDict()\n",
    "\n",
    "levels = [('MALE',2), ('AGE',5), ('INCOME',4), ('FIRST',2), ('WHO',3), (\"PURPOSE\",4), (\"LUGGAGE\",3), ('GA',2)]\n",
    "for elem in levels:\n",
    "    z_levels[elem[0]]=elem[1]\n",
    "z_list = [[var+\"_\"+str(i) for i in range(z_levels[var])] for var in z_levels]\n",
    "z_names = []\n",
    "for elem in z_list:\n",
    "    z_names.extend(elem)\n",
    "# get z\n",
    "z = data[z_names].values\n",
    "print (\"z_levels\", z_levels)\n",
    "print (\"z_names\", z_names)"
   ]
  },
  {
   "cell_type": "code",
   "execution_count": 47,
   "metadata": {},
   "outputs": [],
   "source": [
    "x_names = ['TRAIN_TT', 'TRAIN_HE', 'TRAIN_CO', 'SM_TT','SM_HE', 'SM_SEATS','SM_CO', 'CAR_TT', 'CAR_CO']\n",
    "x = data[x_names].values\n",
    "y = data['CHOICE'].values"
   ]
  },
  {
   "cell_type": "code",
   "execution_count": 48,
   "metadata": {},
   "outputs": [],
   "source": [
    "y01 = data[['CHOICE_'+str(i) for i in range(3)]].values\n",
    "ID = data['ID'].values"
   ]
  },
  {
   "cell_type": "code",
   "execution_count": 49,
   "metadata": {},
   "outputs": [],
   "source": [
    "car_av = data['CAR_AV'].values"
   ]
  },
  {
   "cell_type": "code",
   "execution_count": 50,
   "metadata": {},
   "outputs": [],
   "source": [
    "data_dict = {\"x_names\": x_names, \"x\": x, \"z_names\": z_names, \\\n",
    "             \"z\": z, \"z_levels\": z_levels, \"y01\": y01, \"y\":y, \"ID\": ID, 'car_av': car_av}"
   ]
  },
  {
   "cell_type": "code",
   "execution_count": 51,
   "metadata": {},
   "outputs": [
    {
     "data": {
      "text/plain": [
       "['TRAIN_TT',\n",
       " 'TRAIN_HE',\n",
       " 'TRAIN_CO',\n",
       " 'SM_TT',\n",
       " 'SM_HE',\n",
       " 'SM_SEATS',\n",
       " 'SM_CO',\n",
       " 'CAR_TT',\n",
       " 'CAR_CO']"
      ]
     },
     "execution_count": 51,
     "metadata": {},
     "output_type": "execute_result"
    }
   ],
   "source": [
    "data_dict[\"x_names\"]"
   ]
  },
  {
   "cell_type": "code",
   "execution_count": 53,
   "metadata": {},
   "outputs": [],
   "source": [
    "import pickle\n",
    "pickle.dump(data_dict, open(\"../data/swissmetro_all.pkl\",\"wb\"))"
   ]
  },
  {
   "cell_type": "code",
   "execution_count": 54,
   "metadata": {},
   "outputs": [],
   "source": [
    "def split(N):\n",
    "    '''\n",
    "    Split index list = range(N)\n",
    "    '''\n",
    "    train_ind, dev_test_ind = model_selection.train_test_split(range(N), train_size = 0.7, test_size = 0.3, random_state=8)\n",
    "    dev_ind, test_ind = model_selection.train_test_split(dev_test_ind, train_size = 0.5, test_size = 0.5, random_state=9)\n",
    "    print (\"train size:\", len(train_ind))\n",
    "    print (\"dev size:\", len(dev_ind))\n",
    "    print (\"test size:\", len(test_ind))\n",
    "    return train_ind, dev_ind, test_ind\n",
    "\n",
    "def selectData(data, ind):\n",
    "    '''\n",
    "    Select data based on ind list \n",
    "    '''\n",
    "    data_sel = {}\n",
    "    for key in data.keys():\n",
    "        if key in [\"x\", \"y\", \"z\", \"y01\", \"car_av\"]:\n",
    "            data_sel[key] = data[key][ind]\n",
    "        else: # copy parameters over \n",
    "            data_sel[key] = data[key]\n",
    "    return data_sel"
   ]
  },
  {
   "cell_type": "code",
   "execution_count": 55,
   "metadata": {},
   "outputs": [
    {
     "name": "stdout",
     "output_type": "stream",
     "text": [
      "train size: 7484\n",
      "dev size: 1604\n",
      "test size: 1604\n"
     ]
    }
   ],
   "source": [
    "train_ind, dev_ind, test_ind = split(len(x))\n",
    "data_train = selectData(data_dict, train_ind)\n",
    "data_dev = selectData(data_dict, dev_ind)\n",
    "data_test = selectData(data_dict, test_ind)"
   ]
  },
  {
   "cell_type": "code",
   "execution_count": 56,
   "metadata": {},
   "outputs": [],
   "source": [
    "import pickle\n",
    "pickle.dump(data_train, open(\"../data/train.pkl\",\"wb\"))\n",
    "pickle.dump(data_dev, open(\"../data/dev.pkl\",\"wb\"))\n",
    "pickle.dump(data_test, open(\"../data/test.pkl\",\"wb\"))"
   ]
  },
  {
   "cell_type": "code",
   "execution_count": 57,
   "metadata": {},
   "outputs": [
    {
     "data": {
      "text/plain": [
       "['TRAIN_TT',\n",
       " 'TRAIN_HE',\n",
       " 'TRAIN_CO',\n",
       " 'SM_TT',\n",
       " 'SM_HE',\n",
       " 'SM_SEATS',\n",
       " 'SM_CO',\n",
       " 'CAR_TT',\n",
       " 'CAR_CO']"
      ]
     },
     "execution_count": 57,
     "metadata": {},
     "output_type": "execute_result"
    }
   ],
   "source": [
    "data_train['x_names']"
   ]
  },
  {
   "cell_type": "code",
   "execution_count": 58,
   "metadata": {},
   "outputs": [
    {
     "data": {
      "text/plain": [
       "['MALE_0',\n",
       " 'MALE_1',\n",
       " 'AGE_0',\n",
       " 'AGE_1',\n",
       " 'AGE_2',\n",
       " 'AGE_3',\n",
       " 'AGE_4',\n",
       " 'INCOME_0',\n",
       " 'INCOME_1',\n",
       " 'INCOME_2',\n",
       " 'INCOME_3',\n",
       " 'FIRST_0',\n",
       " 'FIRST_1',\n",
       " 'WHO_0',\n",
       " 'WHO_1',\n",
       " 'WHO_2',\n",
       " 'PURPOSE_0',\n",
       " 'PURPOSE_1',\n",
       " 'PURPOSE_2',\n",
       " 'PURPOSE_3',\n",
       " 'LUGGAGE_0',\n",
       " 'LUGGAGE_1',\n",
       " 'LUGGAGE_2',\n",
       " 'GA_0',\n",
       " 'GA_1']"
      ]
     },
     "execution_count": 58,
     "metadata": {},
     "output_type": "execute_result"
    }
   ],
   "source": [
    "data_train['z_names']"
   ]
  }
 ],
 "metadata": {
  "kernelspec": {
   "display_name": "Python 3",
   "language": "python",
   "name": "python3"
  },
  "language_info": {
   "codemirror_mode": {
    "name": "ipython",
    "version": 3
   },
   "file_extension": ".py",
   "mimetype": "text/x-python",
   "name": "python",
   "nbconvert_exporter": "python",
   "pygments_lexer": "ipython3",
   "version": "3.7.6"
  }
 },
 "nbformat": 4,
 "nbformat_minor": 2
}
